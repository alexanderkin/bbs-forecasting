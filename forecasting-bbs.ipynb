{
 "cells": [
  {
   "cell_type": "markdown",
   "metadata": {},
   "source": [
    "# Forecasting the Breeding Bird Survey"
   ]
  },
  {
   "cell_type": "code",
   "execution_count": null,
   "metadata": {
    "collapsed": true
   },
   "outputs": [],
   "source": [
    "bbs_data = get_data('bbs')"
   ]
  },
  {
   "cell_type": "markdown",
   "metadata": {},
   "source": [
    "## Richness Analysis"
   ]
  },
  {
   "cell_type": "code",
   "execution_count": null,
   "metadata": {
    "collapsed": true
   },
   "outputs": [],
   "source": [
    "bbs_comm_timeseries = filter_timeseries(bbs_data, ['site_id'], 'year', 10)\n",
    "richness = richness_in_group(bbs_comm_timeseries, ['site_id', 'year'], ['species_id'])\n",
    "richness_by_site = richness.groupby('site_id')\n",
    "\n",
    "forecast_data = []\n",
    "for site, site_data in richness_by_site:\n",
    "    for lag in range(1, 10):\n",
    "        forecast_data.append([site, lag] + benchmark_predictions(site_data['year'], site_data['richness'], lag=lag))\n",
    "\n",
    "forecast_data = pd.DataFrame(forecast_data, columns=['site', 'lag', 'last_yr_rich', 'lag_rich', 'avg_rich'])\n",
    "coefdets_avg_rich = []\n",
    "coefdets_lag_rich = []\n",
    "lags = []\n",
    "for lag in range(1, 10):\n",
    "    lags.append(lag)\n",
    "    lag_data = forecast_data[forecast_data['lag'] == lag]\n",
    "    coefdets_avg_rich.append(obs_pred_rsquare(lag_data['last_yr_rich'], lag_data['avg_rich']))\n",
    "    coefdets_lag_rich.append(obs_pred_rsquare(lag_data['last_yr_rich'], lag_data['lag_rich']))"
   ]
  },
  {
   "cell_type": "markdown",
   "metadata": {},
   "source": [
    "## Population Abundance Analysis"
   ]
  },
  {
   "cell_type": "code",
   "execution_count": null,
   "metadata": {
    "collapsed": true
   },
   "outputs": [],
   "source": [
    "bbs_pop_timeseries = filter_timeseries(bbs_data, ['site_id', 'species_id'], 'year', 10)\n",
    "ab_by_pop = bbs_pop_timeseries.groupby(['site_id', 'species_id'])\n",
    "\n",
    "forecast_data_pop = []\n",
    "step = 1\n",
    "for pop, pop_data in ab_by_pop:\n",
    "    site_id, species_id = pop\n",
    "    pop_data = pop_data.sort('year')\n",
    "    last_yr_ab = pop_data['abundance'].iloc[-1]\n",
    "    other_yrs_ab = pop_data['abundance'].iloc[:-1]\n",
    "    prev_yr_ab = pop_data.sort('year')['abundance'].iloc[-2]\n",
    "    avg_ab = np.mean(other_yrs_ab)\n",
    "    forecast_data_pop.append([site_id, species_id, last_yr_ab, prev_yr_ab, avg_ab])\n",
    "    step += 1\n",
    "    if step % 1000 == 0:\n",
    "        print(step / 200000.0)\n",
    "\n",
    "forecast_data_pop = pd.DataFrame(forecast_data_pop, columns=['site_id', 'species_id', 'last_yr_ab', 'prev_yr_ab', 'avg_ab'])\n",
    "coefdet_avg_ab = obs_pred_rsquare(forecast_data_pop['last_yr_ab'], forecast_data_pop['avg_ab'])\n",
    "coefdet_prev_yr_ab = obs_pred_rsquare(forecast_data_pop['last_yr_ab'], forecast_data_pop['prev_yr_ab'])"
   ]
  }
 ],
 "metadata": {
  "kernelspec": {
   "display_name": "Python 3",
   "language": "python",
   "name": "python3"
  },
  "language_info": {
   "codemirror_mode": {
    "name": "ipython",
    "version": 3
   },
   "file_extension": ".py",
   "mimetype": "text/x-python",
   "name": "python",
   "nbconvert_exporter": "python",
   "pygments_lexer": "ipython3",
   "version": "3.3.5"
  }
 },
 "nbformat": 4,
 "nbformat_minor": 0
}
